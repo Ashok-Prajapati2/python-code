{
 "cells": [
  {
   "cell_type": "code",
   "execution_count": 1,
   "id": "66b95952-1e99-42a2-92dc-5dffb9a0811d",
   "metadata": {},
   "outputs": [],
   "source": [
    "import pandas as pd"
   ]
  },
  {
   "cell_type": "code",
   "execution_count": 2,
   "id": "b1470146-6132-472a-ac04-8ac622a0238b",
   "metadata": {},
   "outputs": [],
   "source": [
    "data = {\n",
    "        'name': ['a','b','c','d'],\n",
    "        'age' : [10,23,54,45],\n",
    "        'num' : [1,2,3,4]\n",
    "        }"
   ]
  },
  {
   "cell_type": "code",
   "execution_count": 4,
   "id": "9042e72a-6d2f-4272-8d21-75bdb9ac48a6",
   "metadata": {},
   "outputs": [],
   "source": [
    "pd.DataFrame(data).to_xml('new.xml' ,  index = False)"
   ]
  },
  {
   "cell_type": "code",
   "execution_count": 7,
   "id": "6b1d2c03-de3a-485f-9958-a13f31beef83",
   "metadata": {},
   "outputs": [
    {
     "ename": "TypeError",
     "evalue": "read_xml() got an unexpected keyword argument 'index'",
     "output_type": "error",
     "traceback": [
      "\u001b[0;31m---------------------------------------------------------------------------\u001b[0m",
      "\u001b[0;31mTypeError\u001b[0m                                 Traceback (most recent call last)",
      "Cell \u001b[0;32mIn[7], line 1\u001b[0m\n\u001b[0;32m----> 1\u001b[0m x \u001b[38;5;241m=\u001b[39m \u001b[43mpd\u001b[49m\u001b[38;5;241;43m.\u001b[39;49m\u001b[43mread_xml\u001b[49m\u001b[43m(\u001b[49m\u001b[38;5;124;43m'\u001b[39;49m\u001b[38;5;124;43mnew.xml\u001b[39;49m\u001b[38;5;124;43m'\u001b[39;49m\u001b[43m,\u001b[49m\u001b[43m \u001b[49m\u001b[43mindex\u001b[49m\u001b[43m \u001b[49m\u001b[38;5;241;43m=\u001b[39;49m\u001b[43m \u001b[49m\u001b[38;5;28;43;01mFalse\u001b[39;49;00m\u001b[43m)\u001b[49m\n\u001b[1;32m      2\u001b[0m \u001b[38;5;28mprint\u001b[39m(x)\n",
      "\u001b[0;31mTypeError\u001b[0m: read_xml() got an unexpected keyword argument 'index'"
     ]
    }
   ],
   "source": [
    "x = pd.read_xml('new.xml')\n",
    "print(x)"
   ]
  },
  {
   "cell_type": "code",
   "execution_count": null,
   "id": "8b89d50b-4690-4005-b414-59832a6feffd",
   "metadata": {},
   "outputs": [],
   "source": []
  }
 ],
 "metadata": {
  "kernelspec": {
   "display_name": "Python 3 (ipykernel)",
   "language": "python",
   "name": "python3"
  },
  "language_info": {
   "codemirror_mode": {
    "name": "ipython",
    "version": 3
   },
   "file_extension": ".py",
   "mimetype": "text/x-python",
   "name": "python",
   "nbconvert_exporter": "python",
   "pygments_lexer": "ipython3",
   "version": "3.12.0"
  }
 },
 "nbformat": 4,
 "nbformat_minor": 5
}
