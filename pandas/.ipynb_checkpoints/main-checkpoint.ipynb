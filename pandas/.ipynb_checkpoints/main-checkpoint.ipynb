{
 "cells": [
  {
   "cell_type": "code",
   "execution_count": 6,
   "id": "0789a57f-8062-4a78-a5e8-d65f67286815",
   "metadata": {},
   "outputs": [],
   "source": [
    "import pandas as pd \n",
    "import csv\n"
   ]
  },
  {
   "cell_type": "code",
   "execution_count": null,
   "id": "219ddbcc-ef7a-4c42-8be1-346a1a353ca6",
   "metadata": {},
   "outputs": [],
   "source": [
    "#csv - comman separated values"
   ]
  },
  {
   "cell_type": "code",
   "execution_count": 5,
   "id": "12e94fe4-9b53-42a2-9eae-30d49ff54ad3",
   "metadata": {},
   "outputs": [
    {
     "name": "stdout",
     "output_type": "stream",
     "text": [
      "['day,temp,condition\\n', 'Monday,12,Sunny\\n', 'Tuesday,14,Rain\\n', 'Wednesday,15,Rain\\n', 'Thursday,14,Cloudy\\n', 'Friday,21,Sunny\\n', 'Saturday,22,Sunny\\n', 'Sunday,24,Sunny']\n"
     ]
    }
   ],
   "source": [
    "with open(\"226 weather-data.csv\") as file:\n",
    "    print(file.readlines())"
   ]
  },
  {
   "cell_type": "code",
   "execution_count": 10,
   "id": "f0e41e52-f387-422d-a20e-d3dfd2eb013c",
   "metadata": {},
   "outputs": [
    {
     "name": "stdout",
     "output_type": "stream",
     "text": [
      "<_csv.reader object at 0x7f941bfa1a80>\n",
      "['day', 'temp', 'condition']\n",
      "['Monday', '12', 'Sunny']\n",
      "['Tuesday', '14', 'Rain']\n",
      "['Wednesday', '15', 'Rain']\n",
      "['Thursday', '14', 'Cloudy']\n",
      "['Friday', '21', 'Sunny']\n",
      "['Saturday', '22', 'Sunny']\n",
      "['Sunday', '24', 'Sunny']\n"
     ]
    }
   ],
   "source": [
    "with open(\"226 weather-data.csv\") as nf:\n",
    "    data = (csv.reader(nf))\n",
    "    print(data)\n",
    "    for n in data:\n",
    "        print(n)"
   ]
  },
  {
   "cell_type": "code",
   "execution_count": 11,
   "id": "4199e3e8-bf73-4126-9d21-7ac14221d899",
   "metadata": {},
   "outputs": [
    {
     "name": "stdout",
     "output_type": "stream",
     "text": [
      "         day  temp condition\n",
      "0     Monday    12     Sunny\n",
      "1    Tuesday    14      Rain\n",
      "2  Wednesday    15      Rain\n",
      "3   Thursday    14    Cloudy\n",
      "4     Friday    21     Sunny\n",
      "5   Saturday    22     Sunny\n",
      "6     Sunday    24     Sunny\n"
     ]
    }
   ],
   "source": [
    "data = pd.read_csv('226 weather-data.csv')\n",
    "print(data)"
   ]
  },
  {
   "cell_type": "code",
   "execution_count": 29,
   "id": "e18d1e98-ed93-45ee-a6aa-be6c27c0c9b4",
   "metadata": {
    "scrolled": true
   },
   "outputs": [
    {
     "name": "stdout",
     "output_type": "stream",
     "text": [
      "0     True\n",
      "1    False\n",
      "2    False\n",
      "3    False\n",
      "4    False\n",
      "5    False\n",
      "6    False\n",
      "Name: day, dtype: bool\n",
      "      day  temp condition\n",
      "0  Monday    12     Sunny\n"
     ]
    }
   ],
   "source": [
    "print(data.day == 'Monday')\n",
    "print(data[data.day == 'Monday'])"
   ]
  },
  {
   "cell_type": "code",
   "execution_count": 30,
   "id": "b1386ad4-b122-48b9-a512-abe088d22b19",
   "metadata": {},
   "outputs": [
    {
     "name": "stdout",
     "output_type": "stream",
     "text": [
      "0       Monday\n",
      "1      Tuesday\n",
      "2    Wednesday\n",
      "3     Thursday\n",
      "4       Friday\n",
      "5     Saturday\n",
      "6       Sunday\n",
      "Name: day, dtype: object\n"
     ]
    }
   ],
   "source": [
    "print(data[\"day\"])"
   ]
  },
  {
   "cell_type": "code",
   "execution_count": 31,
   "id": "a033dfd2-19b7-48c3-861d-a975f9bd108f",
   "metadata": {},
   "outputs": [
    {
     "name": "stdout",
     "output_type": "stream",
     "text": [
      "{'day': {0: 'Monday', 1: 'Tuesday', 2: 'Wednesday', 3: 'Thursday', 4: 'Friday', 5: 'Saturday', 6: 'Sunday'}, 'temp': {0: 12, 1: 14, 2: 15, 3: 14, 4: 21, 5: 22, 6: 24}, 'condition': {0: 'Sunny', 1: 'Rain', 2: 'Rain', 3: 'Cloudy', 4: 'Sunny', 5: 'Sunny', 6: 'Sunny'}}\n"
     ]
    }
   ],
   "source": [
    "data_dic = data.to_dict()\n",
    "print(data_dic)"
   ]
  },
  {
   "cell_type": "code",
   "execution_count": 35,
   "id": "3d9b6739-7771-4a9e-a77b-e7a39c26a60f",
   "metadata": {},
   "outputs": [
    {
     "name": "stdout",
     "output_type": "stream",
     "text": [
      "['Monday', 'Tuesday', 'Wednesday', 'Thursday', 'Friday', 'Saturday', 'Sunday']\n"
     ]
    }
   ],
   "source": [
    "data_s = data[\"day\"].to_list()\n",
    "print(data_s)"
   ]
  },
  {
   "cell_type": "code",
   "execution_count": 37,
   "id": "4e99092e-3aa1-4539-ad95-52d95f4c966a",
   "metadata": {},
   "outputs": [
    {
     "name": "stdout",
     "output_type": "stream",
     "text": [
      "17.428571428571427\n"
     ]
    }
   ],
   "source": [
    "print(data['temp'].mean())"
   ]
  },
  {
   "cell_type": "code",
   "execution_count": 38,
   "id": "7ef32e18-7100-4934-bb01-beaf0103c75b",
   "metadata": {},
   "outputs": [
    {
     "name": "stdout",
     "output_type": "stream",
     "text": [
      "12\n",
      "24\n"
     ]
    }
   ],
   "source": [
    "print(data['temp'].min())\n",
    "print(data['temp'].max()) "
   ]
  },
  {
   "cell_type": "code",
   "execution_count": null,
   "id": "705ade5f-2d4c-44d3-b09e-82f09185d282",
   "metadata": {},
   "outputs": [],
   "source": []
  }
 ],
 "metadata": {
  "kernelspec": {
   "display_name": "Python 3 (ipykernel)",
   "language": "python",
   "name": "python3"
  },
  "language_info": {
   "codemirror_mode": {
    "name": "ipython",
    "version": 3
   },
   "file_extension": ".py",
   "mimetype": "text/x-python",
   "name": "python",
   "nbconvert_exporter": "python",
   "pygments_lexer": "ipython3",
   "version": "3.12.0"
  }
 },
 "nbformat": 4,
 "nbformat_minor": 5
}
