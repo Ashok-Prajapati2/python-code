{
 "cells": [
  {
   "cell_type": "code",
   "execution_count": 1,
   "id": "66b95952-1e99-42a2-92dc-5dffb9a0811d",
   "metadata": {},
   "outputs": [],
   "source": [
    "import pandas as pd"
   ]
  },
  {
   "cell_type": "code",
   "execution_count": 2,
   "id": "b1470146-6132-472a-ac04-8ac622a0238b",
   "metadata": {},
   "outputs": [],
   "source": [
    "data = {\n",
    "        'name': ['a','b','c','d'],\n",
    "        'age' : [10,23,54,45],\n",
    "        'num' : [1,2,3,4]\n",
    "        }"
   ]
  },
  {
   "cell_type": "code",
   "execution_count": 12,
   "id": "9042e72a-6d2f-4272-8d21-75bdb9ac48a6",
   "metadata": {},
   "outputs": [],
   "source": [
    "pd.DataFrame(data).to_xml('new.xml' ,  index = False)"
   ]
  },
  {
   "cell_type": "code",
   "execution_count": 13,
   "id": "6b1d2c03-de3a-485f-9958-a13f31beef83",
   "metadata": {},
   "outputs": [
    {
     "name": "stdout",
     "output_type": "stream",
     "text": [
      "  name  age  num\n",
      "0    a   10    1\n",
      "1    b   23    2\n",
      "2    c   54    3\n",
      "3    d   45    4\n"
     ]
    }
   ],
   "source": [
    "x = pd.read_xml('new.xml')\n",
    "print(x)"
   ]
  },
  {
   "cell_type": "code",
   "execution_count": 24,
   "id": "8b89d50b-4690-4005-b414-59832a6feffd",
   "metadata": {},
   "outputs": [
    {
     "name": "stdout",
     "output_type": "stream",
     "text": [
      "              X          Y Unique Squirrel ID Hectare Shift      Date  \\\n",
      "0    -73.956134  40.794082     37F-PM-1014-03     37F    PM  10142018   \n",
      "1    -73.968857  40.783783     21B-AM-1019-04     21B    AM  10192018   \n",
      "2    -73.974281  40.775534     11B-PM-1014-08     11B    PM  10142018   \n",
      "3    -73.959641  40.790313     32E-PM-1017-14     32E    PM  10172018   \n",
      "4    -73.970268  40.776213     13E-AM-1017-05     13E    AM  10172018   \n",
      "...         ...        ...                ...     ...   ...       ...   \n",
      "3018 -73.963943  40.790868     30B-AM-1007-04     30B    AM  10072018   \n",
      "3019 -73.970402  40.782560     19A-PM-1013-05     19A    PM  10132018   \n",
      "3020 -73.966587  40.783678     22D-PM-1012-07     22D    PM  10122018   \n",
      "3021 -73.963994  40.789915     29B-PM-1010-02     29B    PM  10102018   \n",
      "3022 -73.975479  40.769640      5E-PM-1012-01     05E    PM  10122018   \n",
      "\n",
      "      Hectare Squirrel Number    Age Primary Fur Color  \\\n",
      "0                           3    NaN               NaN   \n",
      "1                           4    NaN               NaN   \n",
      "2                           8    NaN              Gray   \n",
      "3                          14  Adult              Gray   \n",
      "4                           5  Adult              Gray   \n",
      "...                       ...    ...               ...   \n",
      "3018                        4  Adult              Gray   \n",
      "3019                        5  Adult              Gray   \n",
      "3020                        7  Adult              Gray   \n",
      "3021                        2    NaN              Gray   \n",
      "3022                        1  Adult          Cinnamon   \n",
      "\n",
      "         Highlight Fur Color  ...   Kuks  Quaas  Moans Tail flags  \\\n",
      "0                        NaN  ...  False  False  False      False   \n",
      "1                        NaN  ...  False  False  False      False   \n",
      "2                        NaN  ...  False  False  False      False   \n",
      "3                        NaN  ...  False  False  False      False   \n",
      "4                   Cinnamon  ...  False  False  False      False   \n",
      "...                      ...  ...    ...    ...    ...        ...   \n",
      "3018                     NaN  ...  False  False  False      False   \n",
      "3019                   White  ...  False  False  False      False   \n",
      "3020  Black, Cinnamon, White  ...  False  False  False      False   \n",
      "3021         Cinnamon, White  ...  False  False  False      False   \n",
      "3022             Gray, White  ...  False  False  False      False   \n",
      "\n",
      "     Tail twitches  Approaches  Indifferent  Runs from  Other Interactions  \\\n",
      "0            False       False        False      False                 NaN   \n",
      "1            False       False        False      False                 NaN   \n",
      "2            False       False        False      False                 NaN   \n",
      "3            False       False        False       True                 NaN   \n",
      "4            False       False        False      False                 NaN   \n",
      "...            ...         ...          ...        ...                 ...   \n",
      "3018         False       False        False       True                 NaN   \n",
      "3019         False       False         True      False                 NaN   \n",
      "3020         False       False         True      False                 NaN   \n",
      "3021         False       False         True      False                 NaN   \n",
      "3022         False        True        False      False                 NaN   \n",
      "\n",
      "                                        Lat/Long  \n",
      "0     POINT (-73.9561344937861 40.7940823884086)  \n",
      "1     POINT (-73.9688574691102 40.7837825208444)  \n",
      "2     POINT (-73.97428114848522 40.775533619083)  \n",
      "3     POINT (-73.9596413903948 40.7903128889029)  \n",
      "4     POINT (-73.9702676472613 40.7762126854894)  \n",
      "...                                          ...  \n",
      "3018  POINT (-73.9639431360458 40.7908677445466)  \n",
      "3019  POINT (-73.9704015859639 40.7825600069973)  \n",
      "3020  POINT (-73.9665871993517 40.7836775064883)  \n",
      "3021  POINT (-73.9639941227864 40.7899152327912)  \n",
      "3022  POINT (-73.9754794191553 40.7696404489025)  \n",
      "\n",
      "[3023 rows x 31 columns]\n"
     ]
    }
   ],
   "source": [
    "park = pd.read_csv('05.csv')\n",
    "print(park)"
   ]
  },
  {
   "cell_type": "code",
   "execution_count": 26,
   "id": "e1f74ea3-e43f-4af5-9b77-edab88d79039",
   "metadata": {},
   "outputs": [
    {
     "name": "stdout",
     "output_type": "stream",
     "text": [
      "3023\n"
     ]
    }
   ],
   "source": [
    "data_g =  park[\"Primary Fur Color\"] == \"Gray\"\n",
    "print(len(data_g))"
   ]
  },
  {
   "cell_type": "code",
   "execution_count": 27,
   "id": "371ca500-e403-402e-99d4-2bd832a592da",
   "metadata": {},
   "outputs": [
    {
     "name": "stdout",
     "output_type": "stream",
     "text": [
      "3023\n"
     ]
    }
   ],
   "source": [
    "data_b =  park[\"Primary Fur Color\"] == \"Black\"\n",
    "print(len(data_b))"
   ]
  },
  {
   "cell_type": "code",
   "execution_count": 28,
   "id": "081467b6-e9b8-4aa2-9638-fc85676bc86f",
   "metadata": {},
   "outputs": [
    {
     "name": "stdout",
     "output_type": "stream",
     "text": [
      "3023\n"
     ]
    }
   ],
   "source": [
    "data =  park[\"Primary Fur Color\"]\n",
    "print(len(data))"
   ]
  },
  {
   "cell_type": "code",
   "execution_count": 38,
   "id": "1975f96b-5ce0-45d2-8d2d-7c06e2976334",
   "metadata": {},
   "outputs": [],
   "source": [
    "data_dic = {\n",
    "    \"color\" : ['G','b','c'],\n",
    "    \"count\" : [len(data_g),len(data_b),len(data)]\n",
    "}\n",
    "pd.DataFrame(data_dic).to_csv(\"color_data.csv\", index = False)"
   ]
  },
  {
   "cell_type": "code",
   "execution_count": 39,
   "id": "64da70c1-1e9c-4c22-802b-97da35dd455b",
   "metadata": {},
   "outputs": [
    {
     "name": "stdout",
     "output_type": "stream",
     "text": [
      "  color  count\n",
      "0     G   3023\n",
      "1     b   3023\n",
      "2     c   3023\n"
     ]
    }
   ],
   "source": [
    "print(pd.read_csv(\"color_data.csv\"))"
   ]
  },
  {
   "cell_type": "code",
   "execution_count": null,
   "id": "33636d33-40fd-45d6-a45f-e1faf1c0ba10",
   "metadata": {},
   "outputs": [],
   "source": []
  }
 ],
 "metadata": {
  "kernelspec": {
   "display_name": "Python 3 (ipykernel)",
   "language": "python",
   "name": "python3"
  },
  "language_info": {
   "codemirror_mode": {
    "name": "ipython",
    "version": 3
   },
   "file_extension": ".py",
   "mimetype": "text/x-python",
   "name": "python",
   "nbconvert_exporter": "python",
   "pygments_lexer": "ipython3",
   "version": "3.12.0"
  }
 },
 "nbformat": 4,
 "nbformat_minor": 5
}
