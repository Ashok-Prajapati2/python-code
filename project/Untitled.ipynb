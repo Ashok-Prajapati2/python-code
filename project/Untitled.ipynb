{
 "cells": [
  {
   "cell_type": "code",
   "execution_count": 1,
   "id": "2ed04a22-4287-42cd-a688-6afe688ebdda",
   "metadata": {},
   "outputs": [],
   "source": [
    "from turtle import Turtle, Screen\n",
    "\n",
    "k = Turtle()\n",
    "k.speed(0)\n",
    "k.color(\"#FF8C00\")\n",
    "\n",
    "s = Screen()\n",
    "s.bgcolor('black')\n",
    "\n",
    "k.penup()\n",
    "k.begin_fill()\n",
    "\n",
    "s.exitonclick()  # Use this to keep the window open until you click it\n"
   ]
  },
  {
   "cell_type": "code",
   "execution_count": null,
   "id": "da806d98-dd9e-4f07-b4fe-cfb5f0f10a75",
   "metadata": {},
   "outputs": [],
   "source": []
  }
 ],
 "metadata": {
  "kernelspec": {
   "display_name": "Python 3 (ipykernel)",
   "language": "python",
   "name": "python3"
  },
  "language_info": {
   "codemirror_mode": {
    "name": "ipython",
    "version": 3
   },
   "file_extension": ".py",
   "mimetype": "text/x-python",
   "name": "python",
   "nbconvert_exporter": "python",
   "pygments_lexer": "ipython3",
   "version": "3.12.0"
  }
 },
 "nbformat": 4,
 "nbformat_minor": 5
}
